{
 "cells": [
  {
   "cell_type": "code",
   "execution_count": 25,
   "metadata": {},
   "outputs": [],
   "source": [
    "from project_functions_final_plots import *\n",
    "import pandas as pd\n",
    "import geopandas as gpd\n",
    "import numpy as np\n",
    "import os \n",
    "from pathlib import Path  \n",
    "import matplotlib.pyplot as plt"
   ]
  },
  {
   "cell_type": "markdown",
   "metadata": {},
   "source": [
    "# Variable Assignments"
   ]
  },
  {
   "cell_type": "code",
   "execution_count": 22,
   "metadata": {},
   "outputs": [],
   "source": [
    "clienttoken = \"MLY|6271859919532158|486bcdece7a665eb89a5803f2994b4c9\"\n",
    "bounds = [(12.436781, 55.545432), (12.436781, 55.731815), (12.696966, 55.731815), (12.696966, 55.545432)]\n",
    "my_shapefile_path = \"koebenhavn.shp\"\n",
    "my_shp = gpd.read_file(my_shapefile_path)"
   ]
  },
  {
   "cell_type": "code",
   "execution_count": 23,
   "metadata": {},
   "outputs": [],
   "source": [
    "ids_file = pd.read_csv('ids.csv')\n",
    "IDs =  ids_file['image_id'].to_list()\n",
    "np.random.seed(42)\n",
    "IDs = list(np.random.choice(IDs, 40000))"
   ]
  },
  {
   "cell_type": "code",
   "execution_count": null,
   "metadata": {},
   "outputs": [],
   "source": [
    "strava_csv = pd.read_csv(\"/home/s214604/data_from_laura/all_edges_monthly_jan_2022-dec_2022_ped/7f42d69dd7bd00b04081b9cbd0d05ab4e5f87353dcd7364c34b8e7c74d42109d-1676891223740.csv\")\n",
    "df_activity = StravaToDF(my_shp, bounds, strava_csv)"
   ]
  },
  {
   "cell_type": "markdown",
   "metadata": {},
   "source": [
    "# Create dataset"
   ]
  },
  {
   "cell_type": "markdown",
   "metadata": {},
   "source": [
    "### Get Detections for Mapillary"
   ]
  },
  {
   "cell_type": "code",
   "execution_count": 66,
   "metadata": {
    "scrolled": true
   },
   "outputs": [
    {
     "name": "stderr",
     "output_type": "stream",
     "text": [
      "Loading…: 100%|██████████████████████████| 100/100 [00:22<00:00,  4.37it/s]\n",
      "Loading…: 100%|██████████████████████████| 100/100 [00:22<00:00,  4.45it/s]\n"
     ]
    }
   ],
   "source": [
    "#df_detections, unique_occurences, dict_image = GetDetections(IDs, clienttoken, data_type = 'int')\n",
    "df_detections1, dict_image = GetDetections_FaF(IDs, clienttoken, data_type = 'int')"
   ]
  },
  {
   "cell_type": "markdown",
   "metadata": {},
   "source": [
    "### Export Detections Dataframe"
   ]
  },
  {
   "cell_type": "code",
   "execution_count": 61,
   "metadata": {},
   "outputs": [],
   "source": [
    "current_path = os.getcwd()\n",
    "filepath = Path(current_path+'/detections1.csv')  \n",
    "filepath.parent.mkdir(parents=True, exist_ok=True)  \n",
    "#df_detections1.to_csv(filepath) "
   ]
  },
  {
   "cell_type": "markdown",
   "metadata": {},
   "source": [
    "### Create Model Data"
   ]
  },
  {
   "cell_type": "code",
   "execution_count": 71,
   "metadata": {},
   "outputs": [
    {
     "name": "stderr",
     "output_type": "stream",
     "text": [
      "Loading…: 100%|██████████████████████████| 100/100 [00:09<00:00, 10.85it/s]\n",
      "/home/s214604/project_functions_final1.py:102: UserWarning: Geometry is in a geographic CRS. Results from 'buffer' are likely incorrect. Use 'GeoSeries.to_crs()' to re-project geometries to a projected CRS before this operation.\n",
      "\n",
      "  df_polygons[\"geometry\"] = df_polygons[\"geometry\"].buffer(buffer, cap_style = 2)\n"
     ]
    }
   ],
   "source": [
    "pip = GetPointsInPoly(my_shp, clienttoken, bounds, IDs)\n",
    "model_data = DFTransform(df_detections1, pip, df_activity, dict_image, threshold = 0.05)"
   ]
  },
  {
   "cell_type": "markdown",
   "metadata": {},
   "source": [
    "### Reassign Activity to Classes"
   ]
  },
  {
   "cell_type": "code",
   "execution_count": 72,
   "metadata": {},
   "outputs": [],
   "source": [
    "ReassignActivity(model_data)"
   ]
  },
  {
   "cell_type": "markdown",
   "metadata": {},
   "source": [
    "### Export Model Data"
   ]
  },
  {
   "cell_type": "code",
   "execution_count": 73,
   "metadata": {},
   "outputs": [],
   "source": [
    "current_path = os.getcwd()\n",
    "filepath = Path(current_path+'/modeldata_final.csv')  \n",
    "filepath.parent.mkdir(parents=True, exist_ok=True)  \n",
    "model_data.to_csv(filepath)"
   ]
  },
  {
   "cell_type": "markdown",
   "metadata": {},
   "source": [
    "# Plots\n"
   ]
  },
  {
   "cell_type": "code",
   "execution_count": 24,
   "metadata": {},
   "outputs": [
    {
     "name": "stderr",
     "output_type": "stream",
     "text": [
      "Loading…: 100%|████████████████████| 40000/40000 [1:20:50<00:00,  8.25it/s]\n"
     ]
    },
    {
     "ename": "TypeError",
     "evalue": "PlotShapefile() takes from 1 to 2 positional arguments but 3 were given",
     "output_type": "error",
     "traceback": [
      "\u001b[0;31m---------------------------------------------------------------------------\u001b[0m",
      "\u001b[0;31mTypeError\u001b[0m                                 Traceback (most recent call last)",
      "Cell \u001b[0;32mIn[24], line 2\u001b[0m\n\u001b[1;32m      1\u001b[0m points\u001b[38;5;241m=\u001b[39mGetIdAndGeometry(IDs, clienttoken)\n\u001b[0;32m----> 2\u001b[0m \u001b[43mPlotShapefile\u001b[49m\u001b[43m(\u001b[49m\u001b[43mmy_shp\u001b[49m\u001b[43m,\u001b[49m\u001b[43m \u001b[49m\u001b[43mbounds\u001b[49m\u001b[43m,\u001b[49m\u001b[43mpoints\u001b[49m\u001b[43m)\u001b[49m\n\u001b[1;32m      3\u001b[0m PlotAssignedImages(my_shp, bounds, clienttoken, points, IDs, buffer_size \u001b[38;5;241m=\u001b[39m \u001b[38;5;241m0.0001\u001b[39m)\n\u001b[1;32m      4\u001b[0m PlotUnassignedPoints(my_shp, clienttoken, bounds, IDs)\n",
      "\u001b[0;31mTypeError\u001b[0m: PlotShapefile() takes from 1 to 2 positional arguments but 3 were given"
     ]
    }
   ],
   "source": [
    "points=GetIdAndGeometry(IDs, clienttoken)\n",
    "PlotShapefile(my_shp, bounds,points)\n",
    "PlotAssignedImages(my_shp, bounds, clienttoken, points, IDs, buffer_size = 0.0001)\n",
    "PlotUnassignedPoints(my_shp, clienttoken, bounds, IDs)\n",
    "#PlotFractionImages(unique_occurences)\n",
    "#PlotAvgDetection(dict_image)"
   ]
  },
  {
   "cell_type": "code",
   "execution_count": null,
   "metadata": {},
   "outputs": [],
   "source": [
    "print(df_activity['Activity'])\n",
    "plt.hist(np.log(df_activity['Activity']), bins=100)\n",
    "\n",
    "plt.show()"
   ]
  },
  {
   "cell_type": "code",
   "execution_count": null,
   "metadata": {},
   "outputs": [],
   "source": [
    "plt.hist(df_activity['Activity'], bins=1000)\n",
    "plt.show()"
   ]
  }
 ],
 "metadata": {
  "kernelspec": {
   "display_name": "Python 3 (ipykernel)",
   "language": "python",
   "name": "python3"
  },
  "language_info": {
   "codemirror_mode": {
    "name": "ipython",
    "version": 3
   },
   "file_extension": ".py",
   "mimetype": "text/x-python",
   "name": "python",
   "nbconvert_exporter": "python",
   "pygments_lexer": "ipython3",
   "version": "3.10.9"
  },
  "vscode": {
   "interpreter": {
    "hash": "8b0992f4281f2f3b36b5aa8b079833a0330fecf30fb114d737be1618aa8b7bb2"
   }
  }
 },
 "nbformat": 4,
 "nbformat_minor": 2
}
