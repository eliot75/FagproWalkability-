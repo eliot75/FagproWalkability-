{
 "cells": [
  {
   "cell_type": "code",
   "execution_count": 2,
   "id": "e2a9c883",
   "metadata": {},
   "outputs": [],
   "source": [
    "#initialize packages \n",
    "\n",
    "\n",
    "import numpy as np \n",
    "import pandas as pd \n",
    "import matplotlib.pylab as plt\n",
    "from sklearn.ensemble import RandomForestClassifier \n",
    "from sklearn.model_selection import RandomizedSearchCV\n",
    "from sklearn.model_selection import train_test_split\n",
    "from sklearn.metrics import accuracy_score\n",
    "from sklearn.metrics import confusion_matrix\n",
    "import seaborn as sns\n",
    "from sklearn.model_selection import GridSearchCV\n"
   ]
  },
  {
   "cell_type": "code",
   "execution_count": 3,
   "id": "a8d3ae9c",
   "metadata": {},
   "outputs": [],
   "source": [
    "#load data \n",
    "\n",
    "data = pd.read_csv(\"modeldata_for_parameters.csv\")\n",
    "\n",
    "\n",
    "\n",
    "# Split the data into input features (X) and target variable (y)\n",
    "X = data.drop('Activity', axis=1)  # Input features\n",
    "y = data['Activity']  # Target variable\n",
    "\n",
    "# Split the data into training and testing sets\n",
    "X_train, X_test, y_train, y_test = train_test_split(X, y, test_size=0.2, random_state=42)\n",
    "\n"
   ]
  },
  {
   "cell_type": "markdown",
   "id": "76f5fd7f",
   "metadata": {},
   "source": [
    "# Random grid search "
   ]
  },
  {
   "cell_type": "code",
   "execution_count": 4,
   "id": "0a7eb425",
   "metadata": {},
   "outputs": [
    {
     "name": "stdout",
     "output_type": "stream",
     "text": [
      "{'bootstrap': True, 'ccp_alpha': 0.0, 'class_weight': None, 'criterion': 'gini', 'max_depth': None, 'max_features': 'sqrt', 'max_leaf_nodes': None, 'max_samples': None, 'min_impurity_decrease': 0.0, 'min_samples_leaf': 1, 'min_samples_split': 2, 'min_weight_fraction_leaf': 0.0, 'n_estimators': 100, 'n_jobs': None, 'oob_score': False, 'random_state': 42, 'verbose': 0, 'warm_start': False}\n"
     ]
    }
   ],
   "source": [
    "rfc = RandomForestClassifier(random_state=42)\n",
    "print(rfc.get_params())"
   ]
  },
  {
   "cell_type": "code",
   "execution_count": 5,
   "id": "fc631366",
   "metadata": {},
   "outputs": [
    {
     "name": "stdout",
     "output_type": "stream",
     "text": [
      "{'n_estimators': [10, 20, 30, 40, 50, 60, 70, 80, 90, 100, 110, 120, 130, 140, 150, 160, 170, 180, 190, 200, 210, 220, 230, 240, 250, 260, 270, 280, 290, 300, 310, 320, 330, 340, 350, 360, 370, 380, 390, 400, 410, 420, 430, 440, 450, 460, 470, 480, 490, 500], 'max_features': ['sqrt'], 'max_depth': [10, 13, 17, 21, 25, 29, 33, 37, 41, 44, 48, 52, 56, 60, 64, 68, 72, 75, 79, 83, 87, 91, 95, 99, 103, 106, 110, 114, 118, 122, 126, 130, 134, 137, 141, 145, 149, 153, 157, 161, 165, 168, 172, 176, 180, 184, 188, 192, 196, 200, None], 'min_samples_split': [2, 5, 10], 'min_samples_leaf': [1, 2, 4], 'bootstrap': [True, False]}\n"
     ]
    }
   ],
   "source": [
    "# Number of trees in random forest\n",
    "n_estimators = [int(x) for x in np.linspace(start = 10, stop = 500, num = 50)]\n",
    "\n",
    "# Number of features to consider at every split\n",
    "max_features = ['sqrt']\n",
    "\n",
    "# Maximum number of levels in tree\n",
    "max_depth = [int(x) for x in np.linspace(10, 200, num = 50)]\n",
    "max_depth.append(None)\n",
    "\n",
    "# Minimum number of samples required to split a node\n",
    "min_samples_split = [2, 5, 10]\n",
    "\n",
    "# Minimum number of samples required at each leaf node\n",
    "min_samples_leaf = [1, 2, 4]\n",
    "\n",
    "# Method of selecting samples for training each tree\n",
    "bootstrap = [True, False]\n",
    "\n",
    "# Create the random grid\n",
    "random_grid = {'n_estimators': n_estimators,\n",
    "               'max_features': max_features,\n",
    "               'max_depth': max_depth,\n",
    "               'min_samples_split': min_samples_split,\n",
    "               'min_samples_leaf': min_samples_leaf,\n",
    "               'bootstrap': bootstrap}\n",
    "print(random_grid)"
   ]
  },
  {
   "cell_type": "code",
   "execution_count": 6,
   "id": "9ba9aab5",
   "metadata": {},
   "outputs": [
    {
     "name": "stdout",
     "output_type": "stream",
     "text": [
      "Fold 1:\n",
      "Best Accuracy in fold 1: 0.5674786043449638\n",
      "Best Parameter: {'n_estimators': 70, 'min_samples_split': 5, 'min_samples_leaf': 2, 'max_features': 'sqrt', 'max_depth': 168, 'bootstrap': False}\n",
      "Indices for best accuracy in fold: 37\n",
      "\n",
      "Fold 2:\n",
      "Best Accuracy in fold 2: 0.5411454904542462\n",
      "Best Parameter: {'n_estimators': 460, 'min_samples_split': 2, 'min_samples_leaf': 1, 'max_features': 'sqrt', 'max_depth': 145, 'bootstrap': True}\n",
      "Indices for best accuracy in fold: 0\n",
      "\n",
      "Fold 3:\n",
      "Best Accuracy in fold 3: 0.5589203423304806\n",
      "Best Parameter: {'n_estimators': 190, 'min_samples_split': 10, 'min_samples_leaf': 2, 'max_features': 'sqrt', 'max_depth': 87, 'bootstrap': True}\n",
      "Indices for best accuracy in fold: 86\n",
      "\n",
      "Fold 4:\n",
      "Best Accuracy in fold 4: 0.5540184453227931\n",
      "Best Parameter: {'n_estimators': 480, 'min_samples_split': 2, 'min_samples_leaf': 1, 'max_features': 'sqrt', 'max_depth': 33, 'bootstrap': True}\n",
      "Indices for best accuracy in fold: 27\n",
      "\n",
      "Fold 5:\n",
      "Best Accuracy in fold 5: 0.5355731225296443\n",
      "Best Parameter: {'n_estimators': 280, 'min_samples_split': 5, 'min_samples_leaf': 2, 'max_features': 'sqrt', 'max_depth': 25, 'bootstrap': True}\n",
      "Indices for best accuracy in fold: 96\n",
      "\n",
      "Mean test score across folds for candidate 37: 0.5391780529628656\n",
      "Mean test score across folds for candidate 0: 0.5310146141843197\n",
      "Mean test score across folds for candidate 86: 0.5455005156467789\n",
      "Mean test score across folds for candidate 27: 0.5423408889247399\n",
      "Mean test score across folds for candidate 96: 0.5386534723541336\n",
      "[37, 0, 86, 27, 96]\n",
      "[[358 111 159]\n",
      " [198 167 274]\n",
      " [ 50  79 503]]\n"
     ]
    }
   ],
   "source": [
    "\n",
    "#https://www.kaggle.com/code/prashant111/random-forest-classifier-feature-importance\n",
    "#https://towardsdatascience.com/understanding-feature-importance-and-how-to-implement-it-in-python-ff0287b20285\n",
    "\n",
    "#Initialize the model \n",
    "\n",
    "rfc = RandomForestClassifier(random_state=42)\n",
    "k = 5\n",
    "\n",
    "#Initialize the randomizedSeachCV using the parameter grid and model \n",
    "rfc_random = RandomizedSearchCV(estimator = rfc, param_distributions = random_grid, n_iter = 100, cv = k, verbose=0, random_state=42, n_jobs = -1)\n",
    "\n",
    "\n",
    "# Fit the random search model\n",
    "rfc_random.fit(X_train, y_train)\n",
    "\n",
    "best_iteration_indices = []\n",
    "parameters_for_grid = {'n_estimators': [],\n",
    "               'max_features': [],\n",
    "               'max_depth': [],\n",
    "               'min_samples_split': [],\n",
    "               'min_samples_leaf': [],\n",
    "               'bootstrap': []}\n",
    "\n",
    "#print(rfc_random.cv_results_) \n",
    "for i in range(0,k):\n",
    "    print(f\"Fold {i+1}:\")\n",
    "    best_value = np.argmax(rfc_random.cv_results_[f\"split{i}_test_score\"])\n",
    "    best_iteration_indices.append(best_value)\n",
    "    best_accuracy = rfc_random.cv_results_[f\"split{i}_test_score\"][best_value]\n",
    "    best_params = rfc_random.cv_results_['params'][best_value]\n",
    "    for key in best_params:\n",
    "        if best_params[key] not in parameters_for_grid[key]:\n",
    "            parameters_for_grid[key].append(best_params[key])\n",
    "    #mean_accuracy = rfc_random.cv_results_['mean_test_score'][best_value]\n",
    "    print(f\"Best Accuracy in fold {i+1}:\", best_accuracy)\n",
    "    print(\"Best Parameter:\", best_params)\n",
    "    print(\"Indices for best accuracy in fold:\", best_value)\n",
    "    #print(f\"Mean Accuracy in fold {i+1}:\", mean_accuracy)\n",
    "    print()\n",
    "\n",
    "\n",
    "for i in best_iteration_indices:\n",
    "    mean_accuracy = rfc_random.cv_results_[\"mean_test_score\"][i]\n",
    "    print(f\"Mean test score across folds for candidate {i}:\", mean_accuracy)\n",
    "    \n",
    "print(best_iteration_indices)\n",
    "#print(rfc_random.cv_results_)    \n",
    "#Predict and confusion matrix    \n",
    "    \n",
    "pred = rfc_random.predict(X_test)\n",
    "\n",
    "accuracy_score(y_test,pred)\n",
    "\n",
    "print(confusion_matrix(y_test,pred))\n",
    "\n"
   ]
  },
  {
   "cell_type": "code",
   "execution_count": 78,
   "id": "664d920d",
   "metadata": {
    "scrolled": true
   },
   "outputs": [
    {
     "name": "stdout",
     "output_type": "stream",
     "text": [
      "[480, 40, 110, 130]\n",
      "[13, 15, 17, 87, 157]\n"
     ]
    }
   ],
   "source": [
    "print(parameters_for_grid['n_estimators'])\n",
    "n_estimaters_grid = []\n",
    "n_estimaters_grid.append(round(np.quantile(parameters_for_grid['n_estimators'], 0)))\n",
    "n_estimaters_grid.append(round(np.quantile(parameters_for_grid['n_estimators'], 0.25)))\n",
    "n_estimaters_grid.append(round(np.quantile(parameters_for_grid['n_estimators'], 0.5)))\n",
    "n_estimaters_grid.append(round(np.quantile(parameters_for_grid['n_estimators'], 0.75)))\n",
    "n_estimaters_grid.append(round(np.quantile(parameters_for_grid['n_estimators'], 1)))\n",
    "\n",
    "\n",
    "max_depth_grid = []\n",
    "max_depth_grid.append(round(np.quantile(parameters_for_grid['max_depth'], 0)))\n",
    "max_depth_grid.append(round(np.quantile(parameters_for_grid['max_depth'], 0.25)))\n",
    "max_depth_grid.append(round(np.quantile(parameters_for_grid['max_depth'], 0.5)))\n",
    "max_depth_grid.append(round(np.quantile(parameters_for_grid['max_depth'], 0.75)))\n",
    "max_depth_grid.append(round(np.quantile(parameters_for_grid['max_depth'], 1)))\n",
    "\n",
    "\n",
    "print(max_depth_grid)"
   ]
  },
  {
   "cell_type": "markdown",
   "id": "88708cd5",
   "metadata": {},
   "source": [
    "# Grid search "
   ]
  },
  {
   "cell_type": "code",
   "execution_count": 7,
   "id": "a9b1c050",
   "metadata": {},
   "outputs": [
    {
     "name": "stdout",
     "output_type": "stream",
     "text": [
      "Fold 1:\n",
      "Best Accuracy in fold 1: 0.5674786043449638\n",
      "Best Parameter: {'bootstrap': False, 'max_depth': 168, 'max_features': 'sqrt', 'min_samples_leaf': 2, 'min_samples_split': 5, 'n_estimators': 70}\n",
      "Indices for best accuracy in fold: 0\n",
      "Fold 2:\n",
      "Best Accuracy in fold 2: 0.5457537853851218\n",
      "Best Parameter: {'bootstrap': False, 'max_depth': 25, 'max_features': 'sqrt', 'min_samples_leaf': 1, 'min_samples_split': 10, 'n_estimators': 280}\n",
      "Indices for best accuracy in fold: 149\n",
      "Fold 3:\n",
      "Best Accuracy in fold 3: 0.5589203423304806\n",
      "Best Parameter: {'bootstrap': True, 'max_depth': 168, 'max_features': 'sqrt', 'min_samples_leaf': 2, 'min_samples_split': 10, 'n_estimators': 190}\n",
      "Indices for best accuracy in fold: 162\n",
      "Fold 4:\n",
      "Best Accuracy in fold 4: 0.5540184453227931\n",
      "Best Parameter: {'bootstrap': True, 'max_depth': 33, 'max_features': 'sqrt', 'min_samples_leaf': 1, 'min_samples_split': 2, 'n_estimators': 480}\n",
      "Indices for best accuracy in fold: 263\n",
      "Fold 5:\n",
      "Best Accuracy in fold 5: 0.5375494071146245\n",
      "Best Parameter: {'bootstrap': False, 'max_depth': 33, 'max_features': 'sqrt', 'min_samples_leaf': 2, 'min_samples_split': 2, 'n_estimators': 190}\n",
      "Indices for best accuracy in fold: 97\n",
      "[[351 114 163]\n",
      " [191 178 270]\n",
      " [ 56  87 489]]\n"
     ]
    }
   ],
   "source": [
    "# Create the parameter grid based on the results of random search \n",
    "\n",
    "grid_grid = {\n",
    "    'bootstrap': parameters_for_grid['bootstrap'],\n",
    "    'max_depth': parameters_for_grid['max_depth'],\n",
    "    'max_features': ['sqrt'],\n",
    "    'min_samples_leaf': parameters_for_grid['min_samples_leaf'],\n",
    "    'min_samples_split': parameters_for_grid['min_samples_split'],\n",
    "    'n_estimators': parameters_for_grid['n_estimators']\n",
    "}\n",
    "\n",
    "rfc = RandomForestClassifier(random_state=42)\n",
    "k = 5 \n",
    "\n",
    "rfc_grid = GridSearchCV(estimator = rfc, param_grid = grid_grid, \n",
    "                          cv = k, n_jobs = -1, verbose = 0)\n",
    "\n",
    "rfc_grid.fit(X_train, y_train)\n",
    "\n",
    "best_iteration_indices_grid = []\n",
    "\n",
    "#print(rfc_random.cv_results_) \n",
    "for i in range(0,k):\n",
    "    print(f\"Fold {i+1}:\")\n",
    "    best_value = np.argmax(rfc_grid.cv_results_[f\"split{i}_test_score\"])\n",
    "    best_iteration_indices.append(best_value)\n",
    "    best_accuracy = rfc_grid.cv_results_[f\"split{i}_test_score\"][best_value]\n",
    "    best_params = rfc_grid.cv_results_['params'][best_value]\n",
    "    #mean_accuracy = rfc_random.cv_results_['mean_test_score'][best_value]\n",
    "    print(f\"Best Accuracy in fold {i+1}:\", best_accuracy)\n",
    "    print(\"Best Parameter:\", best_params)\n",
    "    print(\"Indices for best accuracy in fold:\", best_value)\n",
    "    #print(f\"Mean Accuracy in fold {i+1}:\", mean_accuracy)\n",
    "\n",
    "\n",
    "\n",
    "for i in best_iteration_indices_grid:\n",
    "    mean_accuracy = rfc_grid.cv_results_[\"mean_test_score\"][i]\n",
    "    print(f\"Mean test score across folds for candidate {i}:\", mean_accuracy)\n",
    "    \n",
    "    \n",
    "pred_grid = rfc_grid.predict(X_test)\n",
    "\n",
    "accuracy_score(y_test,pred)\n",
    "\n",
    "print(confusion_matrix(y_test,pred_grid))\n"
   ]
  }
 ],
 "metadata": {
  "kernelspec": {
   "display_name": "Python 3 (ipykernel)",
   "language": "python",
   "name": "python3"
  },
  "language_info": {
   "codemirror_mode": {
    "name": "ipython",
    "version": 3
   },
   "file_extension": ".py",
   "mimetype": "text/x-python",
   "name": "python",
   "nbconvert_exporter": "python",
   "pygments_lexer": "ipython3",
   "version": "3.10.9"
  }
 },
 "nbformat": 4,
 "nbformat_minor": 5
}
