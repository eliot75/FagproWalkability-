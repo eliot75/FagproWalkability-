{
 "cells": [
  {
   "cell_type": "code",
   "execution_count": 3,
   "metadata": {},
   "outputs": [],
   "source": [
    "from project_functions_final3 import *\n",
    "import pandas as pd\n",
    "import geopandas as gpd\n",
    "import numpy as np\n",
    "import os \n",
    "from pathlib import Path  \n",
    "import matplotlib.pyplot as plt"
   ]
  },
  {
   "cell_type": "markdown",
   "metadata": {},
   "source": [
    "# Variable Assignments"
   ]
  },
  {
   "cell_type": "code",
   "execution_count": 4,
   "metadata": {},
   "outputs": [],
   "source": [
    "clienttoken = \"MLY|6271859919532158|486bcdece7a665eb89a5803f2994b4c9\"\n",
    "bounds = [(12.436781, 55.545432), (12.436781, 55.731815), (12.696966, 55.731815), (12.696966, 55.545432)]\n",
    "my_shapefile_path = \"koebenhavn.shp\"\n",
    "my_shp = gpd.read_file(my_shapefile_path)"
   ]
  },
  {
   "cell_type": "code",
   "execution_count": 5,
   "metadata": {},
   "outputs": [],
   "source": [
    "ids_file = pd.read_csv('ids.csv')\n",
    "IDs =  ids_file['image_id'].to_list()\n",
    "np.random.seed(42)\n",
    "IDs = list(np.random.choice(IDs, 20000))"
   ]
  },
  {
   "cell_type": "code",
   "execution_count": 6,
   "metadata": {},
   "outputs": [],
   "source": [
    "strava_csv = pd.read_csv(\"/home/s214604/data_from_laura/all_edges_monthly_jan_2022-dec_2022_ped/7f42d69dd7bd00b04081b9cbd0d05ab4e5f87353dcd7364c34b8e7c74d42109d-1676891223740.csv\")\n",
    "df_activity = StravaToDF(my_shp, bounds, strava_csv)"
   ]
  },
  {
   "cell_type": "markdown",
   "metadata": {},
   "source": [
    "# Create dataset"
   ]
  },
  {
   "cell_type": "markdown",
   "metadata": {},
   "source": [
    "### Get Detections for Mapillary"
   ]
  },
  {
   "cell_type": "code",
   "execution_count": 7,
   "metadata": {},
   "outputs": [
    {
     "name": "stderr",
     "output_type": "stream",
     "text": [
      "Loading…: 100%|████████████████████| 20000/20000 [1:19:30<00:00,  4.19it/s]\n"
     ]
    }
   ],
   "source": [
    "df_detections, unique_occurences, dict_image = GetDetections(IDs, clienttoken, data_type = 'int')"
   ]
  },
  {
   "cell_type": "markdown",
   "metadata": {},
   "source": [
    "### Export Detections Dataframe"
   ]
  },
  {
   "cell_type": "code",
   "execution_count": 8,
   "metadata": {},
   "outputs": [],
   "source": [
    "current_path = os.getcwd()\n",
    "filepath = Path(current_path+'/detections.csv')  \n",
    "filepath.parent.mkdir(parents=True, exist_ok=True)  \n",
    "df_detections.to_csv(filepath) "
   ]
  },
  {
   "cell_type": "markdown",
   "metadata": {},
   "source": [
    "### Create Model Data"
   ]
  },
  {
   "cell_type": "code",
   "execution_count": 9,
   "metadata": {},
   "outputs": [
    {
     "name": "stderr",
     "output_type": "stream",
     "text": [
      "Loading…: 100%|██████████████████████| 20000/20000 [36:42<00:00,  9.08it/s]\n",
      "/home/s214604/project_functions_final3.py:102: UserWarning: Geometry is in a geographic CRS. Results from 'buffer' are likely incorrect. Use 'GeoSeries.to_crs()' to re-project geometries to a projected CRS before this operation.\n",
      "\n",
      "  df_polygons[\"geometry\"] = df_polygons[\"geometry\"].buffer(buffer, cap_style = 2)\n"
     ]
    }
   ],
   "source": [
    "pip = GetPointsInPoly(my_shp, clienttoken, bounds, IDs)\n",
    "model_data = DFTransform(df_detections, pip, df_activity, dict_image, threshold = 0.05)"
   ]
  },
  {
   "cell_type": "markdown",
   "metadata": {},
   "source": [
    "### Reassign Activity to Classes"
   ]
  },
  {
   "cell_type": "code",
   "execution_count": 10,
   "metadata": {},
   "outputs": [],
   "source": [
    "ReassignActivity(model_data)"
   ]
  },
  {
   "cell_type": "markdown",
   "metadata": {},
   "source": [
    "### Export Model Data"
   ]
  },
  {
   "cell_type": "code",
   "execution_count": 11,
   "metadata": {},
   "outputs": [],
   "source": [
    "current_path = os.getcwd()\n",
    "filepath = Path(current_path+'/modeldata_for_parameters.csv')  \n",
    "filepath.parent.mkdir(parents=True, exist_ok=True)  \n",
    "model_data.to_csv(filepath)"
   ]
  },
  {
   "cell_type": "markdown",
   "metadata": {},
   "source": [
    "# Plots\n"
   ]
  },
  {
   "cell_type": "code",
   "execution_count": null,
   "metadata": {},
   "outputs": [],
   "source": [
    "#PlotShapefile(my_shp, bounds)\n",
    "#PlotAssignedImages(my_shp, bounds, clienttoken, IDs, buffer_size = 0.0001)\n",
    "#PlotUnassignedPoints(my_shp, clienttoken, bounds, IDs)\n",
    "#PlotFractionImages(unique_occurences)\n",
    "#PlotAvgDetection(dict_image)"
   ]
  }
 ],
 "metadata": {
  "kernelspec": {
   "display_name": "Python 3 (ipykernel)",
   "language": "python",
   "name": "python3"
  },
  "language_info": {
   "codemirror_mode": {
    "name": "ipython",
    "version": 3
   },
   "file_extension": ".py",
   "mimetype": "text/x-python",
   "name": "python",
   "nbconvert_exporter": "python",
   "pygments_lexer": "ipython3",
   "version": "3.10.9"
  },
  "vscode": {
   "interpreter": {
    "hash": "8b0992f4281f2f3b36b5aa8b079833a0330fecf30fb114d737be1618aa8b7bb2"
   }
  }
 },
 "nbformat": 4,
 "nbformat_minor": 2
}
